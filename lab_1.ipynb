{
 "cells": [
  {
   "cell_type": "code",
   "execution_count": 3,
   "id": "924961ff-0167-4293-ad78-578ecd855254",
   "metadata": {},
   "outputs": [
    {
     "ename": "ModuleNotFoundError",
     "evalue": "No module named 'jetson_inference'",
     "output_type": "error",
     "traceback": [
      "\u001b[1;31m---------------------------------------------------------------------------\u001b[0m",
      "\u001b[1;31mModuleNotFoundError\u001b[0m                       Traceback (most recent call last)",
      "\u001b[1;32m~\\AppData\\Local\\Temp\\ipykernel_5472\\3182745413.py\u001b[0m in \u001b[0;36m<module>\u001b[1;34m\u001b[0m\n\u001b[1;32m----> 1\u001b[1;33m \u001b[1;32mimport\u001b[0m \u001b[0mjetson_inference\u001b[0m\u001b[1;33m\u001b[0m\u001b[1;33m\u001b[0m\u001b[0m\n\u001b[0m\u001b[0;32m      2\u001b[0m \u001b[1;32mimport\u001b[0m \u001b[0mjetson_utils\u001b[0m\u001b[1;33m\u001b[0m\u001b[1;33m\u001b[0m\u001b[0m\n\u001b[0;32m      3\u001b[0m \u001b[1;32mimport\u001b[0m \u001b[0mtime\u001b[0m\u001b[1;33m\u001b[0m\u001b[1;33m\u001b[0m\u001b[0m\n",
      "\u001b[1;31mModuleNotFoundError\u001b[0m: No module named 'jetson_inference'"
     ]
    }
   ],
   "source": [
    "import jetson_inference\n",
    "import jetson_utils\n",
    "import time"
   ]
  },
  {
   "cell_type": "markdown",
   "id": "699c0584-c3df-40de-9b9d-a9616df64249",
   "metadata": {},
   "source": [
    "**TASK 1**"
   ]
  },
  {
   "cell_type": "markdown",
   "id": "c16bad07-e887-402b-8416-e5ed71cf3f67",
   "metadata": {},
   "source": [
    "1. Single Image Recognition"
   ]
  },
  {
   "cell_type": "code",
   "execution_count": 2,
   "id": "8c9f6c13-119c-4f50-bd10-3fc2ef6a915c",
   "metadata": {},
   "outputs": [
    {
     "ename": "NameError",
     "evalue": "name 'jetson_utils' is not defined",
     "output_type": "error",
     "traceback": [
      "\u001b[1;31m---------------------------------------------------------------------------\u001b[0m",
      "\u001b[1;31mNameError\u001b[0m                                 Traceback (most recent call last)",
      "\u001b[1;32m~\\AppData\\Local\\Temp\\ipykernel_5472\\1781753336.py\u001b[0m in \u001b[0;36m<module>\u001b[1;34m\u001b[0m\n\u001b[0;32m      1\u001b[0m \u001b[0mpath_to_image\u001b[0m\u001b[1;33m=\u001b[0m\u001b[1;34m\"cat1.jpeg\"\u001b[0m\u001b[1;33m\u001b[0m\u001b[1;33m\u001b[0m\u001b[0m\n\u001b[1;32m----> 2\u001b[1;33m \u001b[0mimg\u001b[0m \u001b[1;33m=\u001b[0m \u001b[0mjetson_utils\u001b[0m\u001b[1;33m.\u001b[0m\u001b[0mloadImage\u001b[0m\u001b[1;33m(\u001b[0m\u001b[0mpath_to_image\u001b[0m\u001b[1;33m)\u001b[0m\u001b[1;33m\u001b[0m\u001b[1;33m\u001b[0m\u001b[0m\n\u001b[0m\u001b[0;32m      3\u001b[0m \u001b[0mnet\u001b[0m \u001b[1;33m=\u001b[0m \u001b[0mjetson_inference\u001b[0m\u001b[1;33m.\u001b[0m\u001b[0mimageNet\u001b[0m\u001b[1;33m(\u001b[0m\u001b[1;34m\"googlenet\"\u001b[0m\u001b[1;33m)\u001b[0m\u001b[1;33m\u001b[0m\u001b[1;33m\u001b[0m\u001b[0m\n\u001b[0;32m      4\u001b[0m \u001b[0mclass_idx\u001b[0m\u001b[1;33m,\u001b[0m \u001b[0mconfidence\u001b[0m \u001b[1;33m=\u001b[0m \u001b[0mnet\u001b[0m\u001b[1;33m.\u001b[0m\u001b[0mClassify\u001b[0m\u001b[1;33m(\u001b[0m\u001b[0mimg\u001b[0m\u001b[1;33m)\u001b[0m\u001b[1;33m\u001b[0m\u001b[1;33m\u001b[0m\u001b[0m\n\u001b[0;32m      5\u001b[0m \u001b[0mkk\u001b[0m\u001b[1;33m=\u001b[0m\u001b[0mnet\u001b[0m\u001b[1;33m.\u001b[0m\u001b[0mGetClassDesc\u001b[0m\u001b[1;33m(\u001b[0m\u001b[0mclass_idx\u001b[0m\u001b[1;33m)\u001b[0m\u001b[1;33m\u001b[0m\u001b[1;33m\u001b[0m\u001b[0m\n",
      "\u001b[1;31mNameError\u001b[0m: name 'jetson_utils' is not defined"
     ]
    }
   ],
   "source": [
    "\n",
    "path_to_image=\"cat1.jpeg\"\n",
    "img = jetson_utils.loadImage(path_to_image)\n",
    "net = jetson_inference.imageNet(\"googlenet\")\n",
    "class_idx, confidence = net.Classify(img)\n",
    "class_=net.GetClassDesc(class_idx)\n",
    "\n",
    "print(\"image is recognized as '{:s}' (class #{:d}) with {:d}% \\\n",
    " confidence\".format(kk, class_idx, int(confidence * 100)))"
   ]
  },
  {
   "cell_type": "markdown",
   "id": "dd5b0fcb-3b38-4d42-9d03-1cbf0398bd97",
   "metadata": {},
   "source": [
    "(i) What is softmax?\n",
    "\n",
    "\n",
    "(ii) What is the confidence level of the network?\n",
    "\n",
    "\n",
    "(iii) What does the number in the ResNet architectures refer to?"
   ]
  },
  {
   "cell_type": "markdown",
   "id": "3aa450a4-7fc5-4fa0-8eff-6555be9d1efd",
   "metadata": {},
   "source": [
    "2. Image Recognition on a batch of images in a folder"
   ]
  },
  {
   "cell_type": "code",
   "execution_count": null,
   "id": "c2aaf9ca-294f-4a88-9ad8-16e29bcca2fe",
   "metadata": {},
   "outputs": [],
   "source": [
    "\n",
    "\n",
    "\n",
    "images=[\"images/cat1.jpg\",\"images/cat2.jpg\",\"images/cat3.jpg\",\"images/cat4.jpg\",\"images/cat5.jpg\",\n",
    "        \"images/cat6.jpg\",\"images/cat7.jpg\",\"images/cat8.jpg\",\"images/chair1.jpg\",\"images/chair2.jpg\",\n",
    "        \"images/chair3.jpg\",\"images/chair4.jpg\",\"images/chair5.jpg\",\"images/chair6.jpg\",\n",
    "        \"images/chair7.jpg\",\"images/chair8.jpg\",\"images/chair9.jpg\",\"images/squirrel1.jpg\",\n",
    "        \"images/squirrel2.jpg\",\"images/squirrel3.jpg\",\"images/squirrel4.jpg\",\"images/squirrel5.jpg\",\n",
    "        \"images/squirrel6.jpg\",\"images/squirrel7.jpg\",\"images/squirrel8.jpg\"]\n",
    "result_1=[]\n",
    "time_1=0\n",
    "for i in images:\n",
    "    img = jetson_utils.loadImage(i)\n",
    "    cur=time.time()\n",
    "    class_idx, confidence = net.Classify(img)\n",
    "    class_desc=content[class_idx][:-1]\n",
    "    cur1=time.time()-cur\n",
    "    time_1+=cur1\n",
    "    result_1.append(class_desc)\n",
    "net = jetson_inference.imageNet(\"RESNET_18\")\n",
    "\n",
    "result_2=[]\n",
    "time_2=0\n",
    "for i in images:\n",
    "    img = jetson_utils.loadImage(i)\n",
    "    cur=time.time()\n",
    "    class_idx, confidence = net.Classify(img)\n",
    "    class_desc=content[class_idx][:-1]\n",
    "    cur1=time.time()-cur\n",
    "    time_2+=cur1\n",
    "    result_2.append(class_desc)"
   ]
  },
  {
   "cell_type": "markdown",
   "id": "765ee968-077c-467c-a845-f0f58c6fbf22",
   "metadata": {},
   "source": [
    "**TASK 2**"
   ]
  },
  {
   "cell_type": "code",
   "execution_count": null,
   "id": "a845c88a-edf7-4613-9d78-03d399748803",
   "metadata": {},
   "outputs": [],
   "source": []
  },
  {
   "cell_type": "code",
   "execution_count": null,
   "id": "8a120e3a-a595-47d2-85d9-6add8c86c046",
   "metadata": {},
   "outputs": [],
   "source": []
  }
 ],
 "metadata": {
  "kernelspec": {
   "display_name": "Python 3 (ipykernel)",
   "language": "python",
   "name": "python3"
  },
  "language_info": {
   "codemirror_mode": {
    "name": "ipython",
    "version": 3
   },
   "file_extension": ".py",
   "mimetype": "text/x-python",
   "name": "python",
   "nbconvert_exporter": "python",
   "pygments_lexer": "ipython3",
   "version": "3.9.13"
  }
 },
 "nbformat": 4,
 "nbformat_minor": 5
}
